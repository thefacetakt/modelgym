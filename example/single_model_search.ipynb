{
 "cells": [
  {
   "cell_type": "code",
   "execution_count": 1,
   "metadata": {
    "scrolled": true
   },
   "outputs": [
    {
     "name": "stderr",
     "output_type": "stream",
     "text": [
      "/opt/conda/envs/python3/lib/python3.6/site-packages/sklearn/cross_validation.py:44: DeprecationWarning: This module was deprecated in version 0.18 in favor of the model_selection module into which all the refactored classes and functions are moved. Also note that the interface of the new CV iterators are different from that of this module. This module will be removed in 0.20.\n",
      "  \"This module will be removed in 0.20.\", DeprecationWarning)\n"
     ]
    }
   ],
   "source": [
    "import modelgym\n",
    "import numpy as np\n",
    "import os\n",
    "\n",
    "from modelgym.tracker import ProgressTrackerFile\n",
    "from modelgym.trainer import Trainer\n",
    "from modelgym.util import split_and_preprocess\n",
    "from modelgym.util import TASK_CLASSIFICATION\n",
    "\n",
    "from sklearn.metrics import roc_auc_score\n",
    "from sklearn.model_selection import train_test_split"
   ]
  },
  {
   "cell_type": "markdown",
   "metadata": {},
   "source": [
    "We will be trying to working with <a href=\"https://archive.ics.uci.edu/ml/datasets/Breast+Cancer+Wisconsin+(Diagnostic)\">Breast Cancer Wisconsin (Diagnostic) Data Set</a>\n",
    "\n",
    "First, let's define some parameters."
   ]
  },
  {
   "cell_type": "code",
   "execution_count": 2,
   "metadata": {
    "collapsed": true
   },
   "outputs": [],
   "source": [
    "# 20% of our dataset will be used to final evaluation and model comparisson\n",
    "TEST_SIZE = 0.2\n",
    "# ???\n",
    "N_CV_SPLITS = 3\n",
    "\n",
    "# ???\n",
    "N_ESTIMATORS = 1000\n",
    "# ???\n",
    "N_PROBES = 100         \n",
    "\n",
    "# We are using tree structured parzen estimator for hyperparameter optimization\n",
    "# Another option is 'random'\n",
    "OPTIMIZER = 'tpe'"
   ]
  },
  {
   "cell_type": "markdown",
   "metadata": {},
   "source": [
    "## Dataset\n",
    "\n",
    "Then, let's load the dataset itself"
   ]
  },
  {
   "cell_type": "code",
   "execution_count": 3,
   "metadata": {
    "collapsed": true
   },
   "outputs": [],
   "source": [
    "from sklearn.datasets import load_breast_cancer"
   ]
  },
  {
   "cell_type": "code",
   "execution_count": 4,
   "metadata": {
    "collapsed": true
   },
   "outputs": [],
   "source": [
    "X, y = load_breast_cancer(return_X_y=True)"
   ]
  },
  {
   "cell_type": "markdown",
   "metadata": {},
   "source": [
    "Splitting the code into train and test"
   ]
  },
  {
   "cell_type": "code",
   "execution_count": 5,
   "metadata": {
    "collapsed": true
   },
   "outputs": [],
   "source": [
    "X_train, X_test, y_train, y_test = train_test_split(X, y, test_size=TEST_SIZE)"
   ]
  },
  {
   "cell_type": "markdown",
   "metadata": {},
   "source": [
    "This code is used to transform data to inner modelgym format. For example, it would transform categorial features, if we had any."
   ]
  },
  {
   "cell_type": "code",
   "execution_count": 6,
   "metadata": {
    "collapsed": true
   },
   "outputs": [],
   "source": [
    "cv_pairs, (dtrain, dtest) = split_and_preprocess(X_train.copy(), y_train, \n",
    "                                                 X_test.copy(), y_test, \n",
    "                                                 cat_cols=[], n_splits=N_CV_SPLITS)"
   ]
  },
  {
   "cell_type": "markdown",
   "metadata": {},
   "source": [
    "## Training"
   ]
  },
  {
   "cell_type": "markdown",
   "metadata": {},
   "source": [
    "Here comes our trainer"
   ]
  },
  {
   "cell_type": "code",
   "execution_count": 7,
   "metadata": {
    "collapsed": true
   },
   "outputs": [],
   "source": [
    "trainer = Trainer(opt_evals=N_PROBES, n_estimators=N_ESTIMATORS)"
   ]
  },
  {
   "cell_type": "code",
   "execution_count": 8,
   "metadata": {},
   "outputs": [
    {
     "name": "stdout",
     "output_type": "stream",
     "text": [
      "saved state to result/tracker_example_XGBoost.pickle\n",
      "saved state to result/tracker_example_XGBoost.pickle\n",
      "saved state to result/tracker_example_XGBoost.pickle\n",
      "saved state to result/tracker_example_XGBoost.pickle\n",
      "saved state to result/tracker_example_XGBoost.pickle\n",
      "saved state to result/tracker_example_XGBoost.pickle\n",
      "saved state to result/tracker_example_XGBoost.pickle\n",
      "saved state to result/tracker_example_XGBoost.pickle\n",
      "saved state to result/tracker_example_XGBoost.pickle\n",
      "saved state to result/tracker_example_XGBoost.pickle\n"
     ]
    }
   ],
   "source": [
    "model = modelgym.XGBModel(TASK_CLASSIFICATION)\n",
    "\n",
    "# We will save progress in the 'result' folder.\n",
    "# <config_key> and <model_name> are just used for filename generation\n",
    "tracker = ProgressTrackerFile('result', config_key='example', model_name='XGBoost')\n",
    "\n",
    "# Tuning hyperparameters and training model on cross validation\n",
    "metrics = trainer.crossval_optimize_params(model, cv_pairs, algo_name=OPTIMIZER, tracker=tracker, verbose=False)"
   ]
  },
  {
   "cell_type": "markdown",
   "metadata": {},
   "source": [
    "We will compare our custom metric -- roc auc in the end of training"
   ]
  },
  {
   "cell_type": "code",
   "execution_count": 10,
   "metadata": {
    "collapsed": true
   },
   "outputs": [],
   "source": [
    "custom_metric = {'roc_auc': roc_auc_score}"
   ]
  },
  {
   "cell_type": "code",
   "execution_count": 11,
   "metadata": {},
   "outputs": [],
   "source": [
    "test_metrics = trainer.fit_eval(model, dtrain, dtest,\n",
    "                                params=metrics['params'],\n",
    "                                n_estimators=metrics['best_n_estimators'],\n",
    "                                custom_metric=custom_metric)"
   ]
  },
  {
   "cell_type": "code",
   "execution_count": 12,
   "metadata": {},
   "outputs": [
    {
     "data": {
      "text/plain": [
       "0.98276972624798709"
      ]
     },
     "execution_count": 12,
     "metadata": {},
     "output_type": "execute_result"
    }
   ],
   "source": [
    "test_metrics['roc_auc']"
   ]
  },
  {
   "cell_type": "code",
   "execution_count": 13,
   "metadata": {
    "collapsed": true
   },
   "outputs": [],
   "source": [
    "best_model = test_metrics['bst']"
   ]
  },
  {
   "cell_type": "markdown",
   "metadata": {},
   "source": [
    "No we can go and conquer the world with out best model!"
   ]
  }
 ],
 "metadata": {
  "kernelspec": {
   "display_name": "Python 3",
   "language": "python",
   "name": "python3"
  },
  "language_info": {
   "codemirror_mode": {
    "name": "ipython",
    "version": 3
   },
   "file_extension": ".py",
   "mimetype": "text/x-python",
   "name": "python",
   "nbconvert_exporter": "python",
   "pygments_lexer": "ipython3",
   "version": "3.6.3"
  }
 },
 "nbformat": 4,
 "nbformat_minor": 1
}
